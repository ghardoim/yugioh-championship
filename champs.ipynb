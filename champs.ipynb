{
 "cells": [
  {
   "cell_type": "code",
   "execution_count": 1,
   "metadata": {},
   "outputs": [],
   "source": [
    "from itertools import combinations\n",
    "from tkinter import *\n",
    "import pandas as pd"
   ]
  },
  {
   "cell_type": "code",
   "execution_count": 2,
   "metadata": {},
   "outputs": [],
   "source": [
    "players = [\"Hards\", \"Regly\", \"Chris\", \"Lucas\", \"Antônio\", \"Filipe\"]\n",
    "font = {\"font\":(\"Arial\", 11)}\n",
    "player, *others = players"
   ]
  },
  {
   "cell_type": "code",
   "execution_count": 3,
   "metadata": {},
   "outputs": [],
   "source": [
    "def show_results(rounds:list, tags:list, qntmatches:int, qnttags:int) -> None:\n",
    "    results = { p[\"player\"]: { k: v for k, v in p.items() if k != \"player\" } for p in pd.read_csv(\"total.csv\").to_dict(\"records\") }\n",
    "\n",
    "    with open(\"plays.txt\", \"a\") as f:\n",
    "        f.write(f'{results[\"Hards\"][\"round\"] + 1}° Round \\n' )\n",
    "\n",
    "        for matches in rounds + tags:\n",
    "            fullwin, fullloss = { p: 0 for p in players }, { p: 0 for p in players }\n",
    "\n",
    "            f.write(\"\\n\")\n",
    "            for result in matches:\n",
    "\n",
    "                p1, p2 = result\n",
    "                r1, r2 = map(lambda r: int(r.get()), matches[result])\n",
    "\n",
    "                f.write(f\"{p1} {r1} X {r2} {p2}\\n\")\n",
    "                if isinstance(p1, tuple):\n",
    "\n",
    "                    for p in p1: results[p][\"points\"] += r1\n",
    "                    for p in p2: results[p][\"points\"] += r2\n",
    "                    continue\n",
    "\n",
    "                if r1 > r2:\n",
    "                    fullwin[p1] += 1\n",
    "                    fullloss[p2] += 1\n",
    "                    results[p1][\"wins\"] += 1\n",
    "                    results[p1][\"points\"] += 3\n",
    "                    results[p2][\"defeats\"] += 1\n",
    "\n",
    "                elif r1 < r2:\n",
    "                    fullwin[p2] += 1\n",
    "                    fullloss[p1] += 1\n",
    "                    results[p2][\"wins\"] += 1\n",
    "                    results[p2][\"points\"] += 3\n",
    "                    results[p1][\"defeats\"] += 1\n",
    "\n",
    "                else:\n",
    "                    results[p1][\"draws\"] += 1\n",
    "                    results[p2][\"draws\"] += 1\n",
    "                    results[p1][\"points\"] += 1\n",
    "                    results[p2][\"points\"] += 1\n",
    "\n",
    "                results[p1][\"0wins\"] += (r2 == 0)\n",
    "                results[p2][\"0wins\"] += (r1 == 0)\n",
    "\n",
    "            for p in results:\n",
    "                if fullwin[p] == 5:\n",
    "                    results[p][\"3wins\"] += 1\n",
    "                    results[p][\"points\"] += 1\n",
    "\n",
    "                if fullloss[p] == 5:\n",
    "                    results[p][\"reverse\"] += 1\n",
    "\n",
    "        f.write(\"\\n\")\n",
    "        f.write(\"*\" * 50)\n",
    "        f.write(\"\\n\")\n",
    "\n",
    "    df = pd.DataFrame(results).T.sort_values([\"points\", \"wins\", \"3wins\", \"0wins\"], ascending=False) \\\n",
    "        .reset_index().rename(columns={\"index\": \"player\"})\n",
    "\n",
    "    df[\"round\"] = df[\"round\"].max() + 1\n",
    "    df.to_csv(\"total.csv\", index=False)\n",
    "    df[\"matches\"] = qntmatches\n",
    "    df[\"tags\"] = qnttags\n",
    "\n",
    "    pd.concat([pd.read_csv(\"points.csv\"), df]).to_csv(\"points.csv\", index=False)\n",
    "    print(df.to_string(index=False))"
   ]
  },
  {
   "cell_type": "code",
   "execution_count": 4,
   "metadata": {},
   "outputs": [],
   "source": [
    "def create_panel(name:str, games:list, root) -> list:\n",
    "    container = Label(root, name=name)\n",
    "\n",
    "    for g, game in enumerate(games):\n",
    "        print(game)\n",
    "        for m, match in enumerate(game):\n",
    "\n",
    "            points = []\n",
    "            for p, player in enumerate(match):\n",
    "                Label(container, text=\" & \".join(player) if isinstance(player, tuple) else player, **font).grid(row=m+(g*10), column=1 if not p else 9)\n",
    "\n",
    "                point = Entry(container, width=5, )\n",
    "                point.grid(row=m+(g*10), column=3 if not p else 7)\n",
    "\n",
    "                points.append(point)\n",
    "            game[match] = points\n",
    "\n",
    "            Label(container, text=\"X\", **font).grid(row=m+(g*10), column=5)\n",
    "    container.grid(columnspan=5)\n",
    "    return games"
   ]
  },
  {
   "cell_type": "code",
   "execution_count": 5,
   "metadata": {},
   "outputs": [],
   "source": [
    "def create_count(text:str, root, column=0) -> None:\n",
    "    Label(root, text=f\"{text}: \", **font).grid(row=0, column=column)\n",
    "\n",
    "    qnt = Spinbox(root, width=5, **font, from_=0, to=3)\n",
    "    qnt.grid(row=0, column=column+1)\n",
    "    return qnt"
   ]
  },
  {
   "cell_type": "code",
   "execution_count": 6,
   "metadata": {},
   "outputs": [],
   "source": [
    "def create_games(qnttags:int, qntmatches:int, root) -> None:\n",
    "\n",
    "    # tags = create_panel(\"tags\", [{((player, p), tuple(o for o in others if p != o)): () for p in others} for _ in range(qnttags)], root)\n",
    "    rounds = create_panel(\"matches\", [{ m: () for m in list(combinations(players, 2)) } for _ in range(qntmatches)], root)\n",
    "\n",
    "    Button(root, text=\"Save\", name=\"save\", command=lambda: show_results(rounds, [], qntmatches, qnttags), width=25, **font).grid(columnspan=5)"
   ]
  },
  {
   "cell_type": "code",
   "execution_count": null,
   "metadata": {},
   "outputs": [],
   "source": [
    "root = Tk()\n",
    "root.title(\"Yugioh Championship\")\n",
    "\n",
    "# qnttags = create_count(\"Tags\", root)\n",
    "qntmatches = create_count(\"Matches\", root, 2)\n",
    "\n",
    "Button(root, text=\"Create\", command=lambda: create_games(0, int(qntmatches.get()), root), width=25, **font).grid(columnspan=5)\n",
    "\n",
    "root.mainloop()"
   ]
  }
 ],
 "metadata": {
  "kernelspec": {
   "display_name": ".venv",
   "language": "python",
   "name": "python3"
  },
  "language_info": {
   "codemirror_mode": {
    "name": "ipython",
    "version": 3
   },
   "file_extension": ".py",
   "mimetype": "text/x-python",
   "name": "python",
   "nbconvert_exporter": "python",
   "pygments_lexer": "ipython3",
   "version": "3.12.6"
  }
 },
 "nbformat": 4,
 "nbformat_minor": 2
}
